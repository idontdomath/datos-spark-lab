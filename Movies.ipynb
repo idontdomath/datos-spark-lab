{
 "cells": [
  {
   "cell_type": "markdown",
   "metadata": {},
   "source": [
    "## Leo CSV de películas"
   ]
  },
  {
   "cell_type": "code",
   "execution_count": 28,
   "metadata": {
    "collapsed": false
   },
   "outputs": [
    {
     "data": {
      "text/plain": [
       "Row(uri=u'<http://data.linkedmdb.org/resource/film/1>', attribute=u'<http://purl.org/dc/terms/title>', movie=u'Buffy the Vampire Slayer')"
      ]
     },
     "execution_count": 28,
     "metadata": {},
     "output_type": "execute_result"
    }
   ],
   "source": [
    "import pyspark_csv as pycsv\n",
    "sc.addPyFile('pyspark_csv.py')\n",
    "plaintext_rdd = sc.textFile('movies/movie_titles_1000.csv')\n",
    "dataframe = pycsv.csvToDataFrame(sqlCtx, plaintext_rdd, parseDate=False, columns=['uri','attribute','movie'])\n",
    "data_movies = dataframe.rdd\n",
    "data_movies.first()"
   ]
  },
  {
   "cell_type": "markdown",
   "metadata": {},
   "source": [
    "## Leo CSV de actores"
   ]
  },
  {
   "cell_type": "code",
   "execution_count": 29,
   "metadata": {
    "collapsed": false
   },
   "outputs": [
    {
     "data": {
      "text/plain": [
       "Row(uri=u'<http://data.linkedmdb.org/resource/actor/1>', attribute=u'<http://data.linkedmdb.org/resource/movie/actor_name>', actor=u'Bernard Montgomery, 1st Viscount Montgomery of Alamein')"
      ]
     },
     "execution_count": 29,
     "metadata": {},
     "output_type": "execute_result"
    }
   ],
   "source": [
    "import pyspark_csv as pycsv\n",
    "sc.addPyFile('pyspark_csv.py')\n",
    "plaintext_rdd = sc.textFile('movies/actor_names_10000.csv')\n",
    "dataframe = pycsv.csvToDataFrame(sqlCtx, plaintext_rdd, parseDate=False, columns=['uri','attribute','actor'])\n",
    "data_actors = dataframe.rdd\n",
    "data_actors.first()"
   ]
  },
  {
   "cell_type": "markdown",
   "metadata": {},
   "source": [
    "## Leo CSV de actuaciones en películas"
   ]
  },
  {
   "cell_type": "code",
   "execution_count": 30,
   "metadata": {
    "collapsed": false
   },
   "outputs": [
    {
     "data": {
      "text/plain": [
       "Row(movie_uri=u'<http://data.linkedmdb.org/resource/film/54176>', attribute=u'<http://data.linkedmdb.org/resource/movie/actor>', actor_uri=u'<http://data.linkedmdb.org/resource/actor/29362>')"
      ]
     },
     "execution_count": 30,
     "metadata": {},
     "output_type": "execute_result"
    }
   ],
   "source": [
    "import pyspark_csv as pycsv\n",
    "sc.addPyFile('pyspark_csv.py')\n",
    "plaintext_rdd = sc.textFile('movies/actor_movies_m.csv')\n",
    "dataframe = pycsv.csvToDataFrame(sqlCtx, plaintext_rdd, parseDate=False, columns=['movie_uri','attribute','actor_uri'])\n",
    "data_actor_movies = dataframe.rdd\n",
    "data_actor_movies.first()"
   ]
  },
  {
   "cell_type": "markdown",
   "metadata": {},
   "source": [
    "## Genero un RDD con el id de la película como key"
   ]
  },
  {
   "cell_type": "code",
   "execution_count": 31,
   "metadata": {
    "collapsed": false
   },
   "outputs": [
    {
     "data": {
      "text/plain": [
       "(u'<http://data.linkedmdb.org/resource/film/1>', u'Buffy the Vampire Slayer')"
      ]
     },
     "execution_count": 31,
     "metadata": {},
     "output_type": "execute_result"
    }
   ],
   "source": [
    "movies = data_movies.map(lambda row: (row.uri, row.movie))\n",
    "movies.first()"
   ]
  },
  {
   "cell_type": "markdown",
   "metadata": {},
   "source": [
    "## Genero un RDD de las actuaciones con el id de la película como key"
   ]
  },
  {
   "cell_type": "code",
   "execution_count": 32,
   "metadata": {
    "collapsed": false
   },
   "outputs": [
    {
     "data": {
      "text/plain": [
       "(u'<http://data.linkedmdb.org/resource/film/54176>',\n",
       " u'<http://data.linkedmdb.org/resource/actor/29362>')"
      ]
     },
     "execution_count": 32,
     "metadata": {},
     "output_type": "execute_result"
    }
   ],
   "source": [
    "actor_movies_by_movie = data_actor_movies.map(lambda row: (row.movie_uri, row.actor_uri))\n",
    "actor_movies_by_movie.first()"
   ]
  },
  {
   "cell_type": "markdown",
   "metadata": {},
   "source": [
    "## Join de los dos RDD anteriores para tener para cada película el nombre y el actor"
   ]
  },
  {
   "cell_type": "code",
   "execution_count": 33,
   "metadata": {
    "collapsed": false
   },
   "outputs": [
    {
     "data": {
      "text/plain": [
       "(u'<http://data.linkedmdb.org/resource/film/673>',\n",
       " (u\"The Devil's Disciple\",\n",
       "  u'<http://data.linkedmdb.org/resource/actor/29396>'))"
      ]
     },
     "execution_count": 33,
     "metadata": {},
     "output_type": "execute_result"
    }
   ],
   "source": [
    "movies_join_actors = movies.join(actor_movies_by_movie)\n",
    "movies_join_actors.first()"
   ]
  },
  {
   "cell_type": "markdown",
   "metadata": {},
   "source": [
    "## Genero un RDD con el id del actor como key"
   ]
  },
  {
   "cell_type": "code",
   "execution_count": 34,
   "metadata": {
    "collapsed": false
   },
   "outputs": [
    {
     "data": {
      "text/plain": [
       "(u'<http://data.linkedmdb.org/resource/actor/1>',\n",
       " u'Bernard Montgomery, 1st Viscount Montgomery of Alamein')"
      ]
     },
     "execution_count": 34,
     "metadata": {},
     "output_type": "execute_result"
    }
   ],
   "source": [
    "actors = data_actors.map(lambda row: (row.uri, row.actor))\n",
    "actors.first()"
   ]
  },
  {
   "cell_type": "markdown",
   "metadata": {},
   "source": [
    "## Actuaciones con id de actor como key"
   ]
  },
  {
   "cell_type": "code",
   "execution_count": 35,
   "metadata": {
    "collapsed": false
   },
   "outputs": [
    {
     "data": {
      "text/plain": [
       "(u'<http://data.linkedmdb.org/resource/actor/29362>',\n",
       " u'<http://data.linkedmdb.org/resource/film/54176>')"
      ]
     },
     "execution_count": 35,
     "metadata": {},
     "output_type": "execute_result"
    }
   ],
   "source": [
    "actor_movies_by_actor = data_actor_movies.map(lambda row: (row.actor_uri, row.movie_uri))\n",
    "actor_movies_by_actor.first()"
   ]
  },
  {
   "cell_type": "markdown",
   "metadata": {},
   "source": [
    "## Actuaciones con id de actor como key y con el nombre del actor"
   ]
  },
  {
   "cell_type": "code",
   "execution_count": 37,
   "metadata": {
    "collapsed": false
   },
   "outputs": [
    {
     "data": {
      "text/plain": [
       "(u'<http://data.linkedmdb.org/resource/actor/7734>',\n",
       " (u'<http://data.linkedmdb.org/resource/film/48023>', u'Tom Choi'))"
      ]
     },
     "execution_count": 37,
     "metadata": {},
     "output_type": "execute_result"
    }
   ],
   "source": [
    "actor_movies_with_actor = actor_movies_by_actor.join(actors)\n",
    "actor_movies_with_actor.first()"
   ]
  },
  {
   "cell_type": "markdown",
   "metadata": {},
   "source": [
    "## El anterior pero con el id de película como key"
   ]
  },
  {
   "cell_type": "code",
   "execution_count": 38,
   "metadata": {
    "collapsed": false
   },
   "outputs": [
    {
     "data": {
      "text/plain": [
       "(u'<http://data.linkedmdb.org/resource/film/48023>',\n",
       " (u'<http://data.linkedmdb.org/resource/actor/7734>', u'Tom Choi'))"
      ]
     },
     "execution_count": 38,
     "metadata": {},
     "output_type": "execute_result"
    }
   ],
   "source": [
    "actor_movies_with_actor_by_movie = actor_movies_with_actor.map(lambda row: (row[1][0], (row[0],row[1][1])))\n",
    "actor_movies_with_actor_by_movie.first()"
   ]
  },
  {
   "cell_type": "markdown",
   "metadata": {},
   "source": [
    "## El anterior agregado el nombre de la película"
   ]
  },
  {
   "cell_type": "code",
   "execution_count": 39,
   "metadata": {
    "collapsed": false
   },
   "outputs": [
    {
     "data": {
      "text/plain": [
       "(u'<http://data.linkedmdb.org/resource/film/1031>',\n",
       " ((u'<http://data.linkedmdb.org/resource/actor/420>', u'Andrew Wilson'),\n",
       "  u'Bottle Rocket'))"
      ]
     },
     "execution_count": 39,
     "metadata": {},
     "output_type": "execute_result"
    }
   ],
   "source": [
    "actor_movies_with_actor_by_movie_with_movie = actor_movies_with_actor_by_movie.join(movies)\n",
    "actor_movies_with_actor_by_movie_with_movie.first()"
   ]
  },
  {
   "cell_type": "markdown",
   "metadata": {},
   "source": [
    "## Junto todos los actores de una misma película"
   ]
  },
  {
   "cell_type": "code",
   "execution_count": 45,
   "metadata": {
    "collapsed": false,
    "scrolled": true
   },
   "outputs": [
    {
     "data": {
      "text/plain": [
       "[(u'<http://data.linkedmdb.org/resource/film/512>',\n",
       "  [((u'<http://data.linkedmdb.org/resource/actor/872>', u'Walter Long'),\n",
       "    u'Intolerance')]),\n",
       " (u'<http://data.linkedmdb.org/resource/film/822>',\n",
       "  [((u'<http://data.linkedmdb.org/resource/actor/9758>', u'Suhasini Mulay'),\n",
       "    u'Lagaan: Once Upon a Time in India'),\n",
       "   ((u'<http://data.linkedmdb.org/resource/actor/9515>',\n",
       "     u'Rajendranath Zutshi'),\n",
       "    u'Lagaan: Once Upon a Time in India')]),\n",
       " (u'<http://data.linkedmdb.org/resource/film/176>',\n",
       "  [((u'<http://data.linkedmdb.org/resource/actor/7463>', u'J. Frank Burke'),\n",
       "    u'The Italian'),\n",
       "   ((u'<http://data.linkedmdb.org/resource/actor/7462>', u'George Beban'),\n",
       "    u'The Italian')]),\n",
       " (u'<http://data.linkedmdb.org/resource/film/839>',\n",
       "  [((u'<http://data.linkedmdb.org/resource/actor/7594>', u'Michael Scholes'),\n",
       "    u'The Lord of the Rings'),\n",
       "   ((u'<http://data.linkedmdb.org/resource/actor/7598>', u'David Buck'),\n",
       "    u'The Lord of the Rings'),\n",
       "   ((u'<http://data.linkedmdb.org/resource/actor/1299>', u'John Westbrook'),\n",
       "    u'The Lord of the Rings'),\n",
       "   ((u'<http://data.linkedmdb.org/resource/actor/7600>', u'Michael Deacon'),\n",
       "    u'The Lord of the Rings'),\n",
       "   ((u'<http://data.linkedmdb.org/resource/actor/7597>',\n",
       "     u'Michael Graham Cox'),\n",
       "    u'The Lord of the Rings'),\n",
       "   ((u'<http://data.linkedmdb.org/resource/actor/7596>', u'Dominic Guard'),\n",
       "    u'The Lord of the Rings'),\n",
       "   ((u'<http://data.linkedmdb.org/resource/actor/7599>', u'Fraser Kerr'),\n",
       "    u'The Lord of the Rings'),\n",
       "   ((u'<http://data.linkedmdb.org/resource/actor/7595>', u'Simon Chandler'),\n",
       "    u'The Lord of the Rings'),\n",
       "   ((u'<http://data.linkedmdb.org/resource/actor/7601>', u'Alan Tilvern'),\n",
       "    u'The Lord of the Rings')]),\n",
       " (u'<http://data.linkedmdb.org/resource/film/433>',\n",
       "  [((u'<http://data.linkedmdb.org/resource/actor/6211>', u'Gabrielle Haker'),\n",
       "    u'Round Midnight')])]"
      ]
     },
     "execution_count": 45,
     "metadata": {},
     "output_type": "execute_result"
    }
   ],
   "source": [
    "actor_movies_with_actor_by_movie_with_movie.groupByKey().mapValues(lambda x: list(x)).take(5)"
   ]
  },
  {
   "cell_type": "markdown",
   "metadata": {},
   "source": [
    "## Uso de cogroup para hacer join y agrupar"
   ]
  },
  {
   "cell_type": "code",
   "execution_count": 74,
   "metadata": {
    "collapsed": false
   },
   "outputs": [
    {
     "data": {
      "text/plain": [
       "[(u'<http://data.linkedmdb.org/resource/actor/349>',\n",
       "  ([u'<http://data.linkedmdb.org/resource/film/4706>'],\n",
       "   [u'Robert Stevenson'])),\n",
       " (u'<http://data.linkedmdb.org/resource/actor/465>',\n",
       "  ([u'<http://data.linkedmdb.org/resource/film/43596>',\n",
       "    u'<http://data.linkedmdb.org/resource/film/11098>'],\n",
       "   [u'Doug Stone'])),\n",
       " (u'<http://data.linkedmdb.org/resource/actor/9609>',\n",
       "  ([u'<http://data.linkedmdb.org/resource/film/2436>',\n",
       "    u'<http://data.linkedmdb.org/resource/film/5682>',\n",
       "    u'<http://data.linkedmdb.org/resource/film/46765>',\n",
       "    u'<http://data.linkedmdb.org/resource/film/8346>',\n",
       "    u'<http://data.linkedmdb.org/resource/film/8775>'],\n",
       "   [u'Barbara Jefford'])),\n",
       " (u'<http://data.linkedmdb.org/resource/actor/2227>',\n",
       "  ([u'<http://data.linkedmdb.org/resource/film/3582>'],\n",
       "   [u'Terri Susan Smith'])),\n",
       " (u'<http://data.linkedmdb.org/resource/actor/612>',\n",
       "  ([u'<http://data.linkedmdb.org/resource/film/42279>'], [u'James W. Horne']))]"
      ]
     },
     "execution_count": 74,
     "metadata": {},
     "output_type": "execute_result"
    }
   ],
   "source": [
    "actor_movies_by_actor.cogroup(actors)\\\n",
    "                     .mapValues(lambda x: (list(x[0]), list(x[1])))\\\n",
    "                     .filter(lambda x: len(x[1][1]) > 0)\\\n",
    "                     .filter(lambda x: len(x[1][0]) > 0)\\\n",
    "                     .takeSample(0, 5)"
   ]
  },
  {
   "cell_type": "code",
   "execution_count": null,
   "metadata": {
    "collapsed": true
   },
   "outputs": [],
   "source": []
  }
 ],
 "metadata": {
  "kernelspec": {
   "display_name": "Python 2",
   "language": "python",
   "name": "python2"
  },
  "language_info": {
   "codemirror_mode": {
    "name": "ipython",
    "version": 2
   },
   "file_extension": ".py",
   "mimetype": "text/x-python",
   "name": "python",
   "nbconvert_exporter": "python",
   "pygments_lexer": "ipython2",
   "version": "2.7.6"
  }
 },
 "nbformat": 4,
 "nbformat_minor": 0
}

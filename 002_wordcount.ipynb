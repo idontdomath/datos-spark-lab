{
 "cells": [
  {
   "cell_type": "markdown",
   "metadata": {},
   "source": [
    "# Ejemplos con Wordcount"
   ]
  },
  {
   "cell_type": "markdown",
   "metadata": {},
   "source": [
    "## RDD paralelizando datos"
   ]
  },
  {
   "cell_type": "code",
   "execution_count": 1,
   "metadata": {
    "collapsed": false
   },
   "outputs": [
    {
     "name": "stdout",
     "output_type": "stream",
     "text": [
      "ParallelCollectionRDD[0] at parallelize at PythonRDD.scala:392\n"
     ]
    }
   ],
   "source": [
    "data = [1, 2, 3, 4, 5]\n",
    "distData = sc.parallelize(data)\n",
    "print distData "
   ]
  },
  {
   "cell_type": "markdown",
   "metadata": {},
   "source": [
    "## Uso el contenido de un archivo de texto como fuente de datos"
   ]
  },
  {
   "cell_type": "code",
   "execution_count": 2,
   "metadata": {
    "collapsed": false
   },
   "outputs": [],
   "source": [
    "textFile = sc.textFile(\"/usr/local/bin/spark-1.3.1-bin-hadoop2.6/README.md\")"
   ]
  },
  {
   "cell_type": "markdown",
   "metadata": {},
   "source": [
    "## Cuento palabras (flatMap, map, reduceByKey)"
   ]
  },
  {
   "cell_type": "code",
   "execution_count": 3,
   "metadata": {
    "collapsed": false
   },
   "outputs": [],
   "source": [
    "wordCounts = textFile.flatMap(lambda line: line.split()).map(lambda word: (word, 1)).reduceByKey(lambda a, b: a+b)"
   ]
  },
  {
   "cell_type": "markdown",
   "metadata": {},
   "source": [
    "## Muestro todas las tuplas (collect)"
   ]
  },
  {
   "cell_type": "code",
   "execution_count": 4,
   "metadata": {
    "collapsed": false
   },
   "outputs": [
    {
     "data": {
      "text/plain": [
       "[(u'all', 1),\n",
       " (u'help', 1),\n",
       " (u'when', 1),\n",
       " (u'automated', 1),\n",
       " (u'Hadoop', 4),\n",
       " (u'\"local\"', 1),\n",
       " (u'including', 3),\n",
       " (u'computation', 1),\n",
       " (u'[\"Third', 1),\n",
       " (u'file', 1),\n",
       " (u'high-level', 1),\n",
       " (u'find', 1),\n",
       " (u'web', 1),\n",
       " (u'Shell', 2),\n",
       " (u'cluster', 2),\n",
       " (u'how', 2),\n",
       " (u'using:', 1),\n",
       " (u'Big', 1),\n",
       " (u'guidance', 3),\n",
       " (u'run:', 1),\n",
       " (u'Scala,', 1),\n",
       " (u'Running', 1),\n",
       " (u'should', 2),\n",
       " (u'environment', 1),\n",
       " (u'to', 14),\n",
       " (u'only', 1),\n",
       " (u'given.', 1),\n",
       " (u'rich', 1),\n",
       " (u'directory.', 1),\n",
       " (u'Apache', 1),\n",
       " (u'Interactive', 2),\n",
       " (u'sc.parallelize(range(1000)).count()', 1),\n",
       " (u'Building', 1),\n",
       " (u'do', 2),\n",
       " (u'guide,', 1),\n",
       " (u'return', 2),\n",
       " (u'graphs', 1),\n",
       " (u'Programs', 1),\n",
       " (u'Many', 1),\n",
       " (u'Try', 1),\n",
       " (u'built,', 1),\n",
       " (u'\"yarn-client\"', 1),\n",
       " (u'YARN,', 1),\n",
       " (u'not', 1),\n",
       " (u'using', 2),\n",
       " (u'Example', 1),\n",
       " (u'scala>', 1),\n",
       " (u'Once', 1),\n",
       " (u'Spark\"](http://spark.apache.org/docs/latest/building-spark.html).', 1),\n",
       " (u'Because', 1),\n",
       " (u'cluster.', 1),\n",
       " (u'name', 1),\n",
       " (u'Testing', 1),\n",
       " (u'Spark', 14),\n",
       " (u'Streaming', 1),\n",
       " (u'./bin/pyspark', 1),\n",
       " (u'SQL', 2),\n",
       " (u'through', 1),\n",
       " (u'GraphX', 1),\n",
       " (u'them,', 1),\n",
       " (u'[run', 1),\n",
       " (u'\"yarn-cluster\"', 1),\n",
       " (u'the', 21),\n",
       " (u'abbreviated', 1),\n",
       " (u'set', 2),\n",
       " (u'[project', 2),\n",
       " (u'Scala', 2),\n",
       " (u'##', 8),\n",
       " (u'thread,', 1),\n",
       " (u'library', 1),\n",
       " (u'see', 1),\n",
       " (u'examples', 2),\n",
       " (u'MASTER', 1),\n",
       " (u'runs.', 1),\n",
       " (u'[Apache', 1),\n",
       " (u'Pi', 1),\n",
       " (u'instructions.', 1),\n",
       " (u'More', 1),\n",
       " (u'Python,', 2),\n",
       " (u'#', 1),\n",
       " (u'processing,', 2),\n",
       " (u'for', 11),\n",
       " (u'its', 1),\n",
       " (u'version', 1),\n",
       " (u'wiki](https://cwiki.apache.org/confluence/display/SPARK).', 1),\n",
       " (u'provides', 1),\n",
       " (u'print', 1),\n",
       " (u'Configuration', 1),\n",
       " (u'supports', 2),\n",
       " (u'command,', 2),\n",
       " (u'[params]`.', 1),\n",
       " (u'refer', 2),\n",
       " (u'available', 1),\n",
       " (u'be', 2),\n",
       " (u'run', 7),\n",
       " (u'./bin/run-example', 2),\n",
       " (u'Versions', 1),\n",
       " (u'This', 2),\n",
       " (u'Hadoop,', 2),\n",
       " (u'Documentation', 1),\n",
       " (u'use', 3),\n",
       " (u'downloaded', 1),\n",
       " (u'distributions.', 1),\n",
       " (u'Spark.', 1),\n",
       " (u'example:', 1),\n",
       " (u'`examples`', 2),\n",
       " (u'-DskipTests', 1),\n",
       " (u'Maven](http://maven.apache.org/).', 1),\n",
       " (u'[\"Building', 1),\n",
       " (u'works', 1),\n",
       " (u'package', 1),\n",
       " (u'of', 5),\n",
       " (u'changed', 1),\n",
       " (u'programming', 1),\n",
       " (u'optimized', 1),\n",
       " (u'against', 1),\n",
       " (u'site,', 1),\n",
       " (u'graph', 1),\n",
       " (u'For', 2),\n",
       " (u'or', 3),\n",
       " (u'mvn', 1),\n",
       " (u'learning,', 1),\n",
       " (u'and', 10),\n",
       " (u'contains', 1),\n",
       " (u'stream', 1),\n",
       " (u'can', 6),\n",
       " (u'overview', 1),\n",
       " (u'package.)', 1),\n",
       " (u'prefer', 1),\n",
       " (u'one', 2),\n",
       " (u'documentation,', 1),\n",
       " (u'Data.', 1),\n",
       " (u'(You', 1),\n",
       " (u'Online', 1),\n",
       " (u'tools', 1),\n",
       " (u'your', 1),\n",
       " (u'threads.', 1),\n",
       " (u'Tests', 1),\n",
       " (u'fast', 1),\n",
       " (u'from', 1),\n",
       " (u'package.', 1),\n",
       " (u'APIs', 1),\n",
       " (u'SparkPi', 2),\n",
       " (u'structured', 1),\n",
       " (u'system', 1),\n",
       " (u'submit', 1),\n",
       " (u'systems.', 1),\n",
       " (u'start', 1),\n",
       " (u'Version\"](http://spark.apache.org/docs/latest/building-with-maven.html#specifying-the-hadoop-version)',\n",
       "  1),\n",
       " (u'params', 1),\n",
       " (u'Hadoop-supported', 1),\n",
       " (u'way', 1),\n",
       " (u'basic', 1),\n",
       " (u'README', 1),\n",
       " (u'<http://spark.apache.org/>', 1),\n",
       " (u'It', 2),\n",
       " (u'Spark](#building-spark).', 1),\n",
       " (u'engine', 1),\n",
       " (u'building', 3),\n",
       " (u'configure', 1),\n",
       " (u'on', 6),\n",
       " (u'Note', 1),\n",
       " (u'N', 1),\n",
       " (u'usage', 1),\n",
       " (u'\"local[N]\"', 1),\n",
       " (u'>>>', 1),\n",
       " (u'particular', 3),\n",
       " (u'instance:', 1),\n",
       " (u'./bin/spark-shell', 1),\n",
       " (u'general', 2),\n",
       " (u'with', 4),\n",
       " (u'easiest', 1),\n",
       " (u'protocols', 1),\n",
       " (u'must', 1),\n",
       " (u'And', 1),\n",
       " (u'also', 5),\n",
       " (u'versions', 1),\n",
       " (u'this', 1),\n",
       " (u'setup', 1),\n",
       " (u'page](http://spark.apache.org/documentation.html)', 1),\n",
       " (u'shell:', 2),\n",
       " (u'will', 1),\n",
       " (u'See', 1),\n",
       " (u'`./bin/run-example', 1),\n",
       " (u'guide](http://spark.apache.org/docs/latest/configuration.html)', 1),\n",
       " (u'following', 2),\n",
       " (u'locally', 2),\n",
       " (u'distribution', 1),\n",
       " (u'example', 3),\n",
       " (u'are', 1),\n",
       " (u'detailed', 2),\n",
       " (u'tests](https://cwiki.apache.org/confluence/display/SPARK/Contributing+to+Spark#ContributingtoSpark-AutomatedTesting).',\n",
       "  1),\n",
       " (u'mesos://', 1),\n",
       " (u'project', 1),\n",
       " (u'computing', 1),\n",
       " (u'URL,', 1),\n",
       " (u'is', 6),\n",
       " (u'in', 5),\n",
       " (u'higher-level', 1),\n",
       " (u'tests', 1),\n",
       " (u'1000:', 2),\n",
       " (u'an', 3),\n",
       " (u'sample', 1),\n",
       " (u'To', 2),\n",
       " (u'at', 2),\n",
       " (u'have', 1),\n",
       " (u'1000).count()', 1),\n",
       " (u'[\"Specifying', 1),\n",
       " (u'Party', 1),\n",
       " (u'[building', 1),\n",
       " (u'You', 3),\n",
       " (u'if', 4),\n",
       " (u'different', 1),\n",
       " (u'MASTER=spark://host:7077', 1),\n",
       " (u'no', 1),\n",
       " (u'programs,', 1),\n",
       " (u'Java,', 1),\n",
       " (u'that', 3),\n",
       " (u'storage', 1),\n",
       " (u'MLlib', 1),\n",
       " (u'same', 1),\n",
       " (u'machine', 1),\n",
       " (u'application', 1),\n",
       " (u'need', 1),\n",
       " (u'other', 1),\n",
       " (u'analysis.', 1),\n",
       " (u'build', 3),\n",
       " (u'which', 2),\n",
       " (u'online', 1),\n",
       " (u'you', 4),\n",
       " (u'several', 1),\n",
       " (u'A', 1),\n",
       " (u'distribution.', 1),\n",
       " (u'About', 1),\n",
       " (u'HDFS', 1),\n",
       " (u'[Configuration', 1),\n",
       " (u'The', 1),\n",
       " (u'sc.parallelize(1', 1),\n",
       " (u'locally.', 1),\n",
       " (u'Hive', 2),\n",
       " (u'running', 1),\n",
       " (u'uses', 1),\n",
       " (u'a', 9),\n",
       " (u'variable', 1),\n",
       " (u'core', 1),\n",
       " (u'data', 2),\n",
       " (u'class', 2),\n",
       " (u'built', 1),\n",
       " (u'Distributions\"](http://spark.apache.org/docs/latest/hadoop-third-party-distributions.html)',\n",
       "  1),\n",
       " (u'Please', 3),\n",
       " (u'Thriftserver', 1),\n",
       " (u'processing.', 1),\n",
       " (u'programs', 2),\n",
       " (u'documentation', 3),\n",
       " (u'pre-built', 1),\n",
       " (u'Alternatively,', 1),\n",
       " (u'Python', 2),\n",
       " (u'./dev/run-tests', 1),\n",
       " (u'comes', 1),\n",
       " (u'clean', 1),\n",
       " (u'<class>', 1),\n",
       " (u'spark://', 1),\n",
       " (u'first', 1),\n",
       " (u'requires', 1),\n",
       " (u'talk', 1),\n",
       " (u'latest', 1)]"
      ]
     },
     "execution_count": 4,
     "metadata": {},
     "output_type": "execute_result"
    }
   ],
   "source": [
    "wordCounts.collect()"
   ]
  },
  {
   "cell_type": "markdown",
   "metadata": {},
   "source": [
    "## Las 5 palabras que más aparecen (takeOrdered)"
   ]
  },
  {
   "cell_type": "code",
   "execution_count": 5,
   "metadata": {
    "collapsed": false
   },
   "outputs": [
    {
     "data": {
      "text/plain": [
       "[(u'the', 21), (u'to', 14), (u'Spark', 14), (u'for', 11), (u'and', 10)]"
      ]
     },
     "execution_count": 5,
     "metadata": {},
     "output_type": "execute_result"
    }
   ],
   "source": [
    "wordCounts.takeOrdered(5, key = lambda x: -x[1])"
   ]
  },
  {
   "cell_type": "markdown",
   "metadata": {},
   "source": [
    "## Las 5 palabras que más aparecen pero calculandolo afuera de Spark"
   ]
  },
  {
   "cell_type": "code",
   "execution_count": 6,
   "metadata": {
    "collapsed": false
   },
   "outputs": [
    {
     "name": "stdout",
     "output_type": "stream",
     "text": [
      "[(u'the', 21), (u'to', 14), (u'Spark', 14), (u'for', 11), (u'and', 10), (u'a', 9), (u'##', 8), (u'run', 7), (u'can', 6), (u'on', 6)]\n"
     ]
    }
   ],
   "source": [
    "words = wordCounts.collect()\n",
    "words.sort(key = lambda x: -x[1])\n",
    "print words[0:10]"
   ]
  },
  {
   "cell_type": "markdown",
   "metadata": {},
   "source": [
    "## Las 5 palabras que más aparecen usando grupos (groupByKey)"
   ]
  },
  {
   "cell_type": "code",
   "execution_count": 7,
   "metadata": {
    "collapsed": false
   },
   "outputs": [
    {
     "data": {
      "text/plain": [
       "[(u'the', <pyspark.resultiterable.ResultIterable at 0xb0e9bf4c>),\n",
       " (u'to', <pyspark.resultiterable.ResultIterable at 0xb0e2004c>),\n",
       " (u'Spark', <pyspark.resultiterable.ResultIterable at 0xb0e2006c>),\n",
       " (u'for', <pyspark.resultiterable.ResultIterable at 0xb0e2008c>),\n",
       " (u'and', <pyspark.resultiterable.ResultIterable at 0xb0e200ac>)]"
      ]
     },
     "execution_count": 7,
     "metadata": {},
     "output_type": "execute_result"
    }
   ],
   "source": [
    "textFile.flatMap(lambda line: line.split()).map(lambda word: (word, 1)).groupByKey().takeOrdered(5, lambda (key, value): -1 * len(value))"
   ]
  },
  {
   "cell_type": "markdown",
   "metadata": {},
   "source": [
    "## La palabra más larga (reduce)"
   ]
  },
  {
   "cell_type": "code",
   "execution_count": 8,
   "metadata": {
    "collapsed": false
   },
   "outputs": [
    {
     "data": {
      "text/plain": [
       "u'tests](https://cwiki.apache.org/confluence/display/SPARK/Contributing+to+Spark#ContributingtoSpark-AutomatedTesting).'"
      ]
     },
     "execution_count": 8,
     "metadata": {},
     "output_type": "execute_result"
    }
   ],
   "source": [
    "textFile.flatMap(lambda line: line.split()).reduce(lambda a, b: a if (len(a) > len(b)) else b)"
   ]
  },
  {
   "cell_type": "markdown",
   "metadata": {},
   "source": [
    "## Palabras que empiezan con a (filter)"
   ]
  },
  {
   "cell_type": "code",
   "execution_count": 9,
   "metadata": {
    "collapsed": false
   },
   "outputs": [
    {
     "data": {
      "text/plain": [
       "[u'a',\n",
       " u'and',\n",
       " u'and',\n",
       " u'and',\n",
       " u'an',\n",
       " u'analysis.',\n",
       " u'also',\n",
       " u'a',\n",
       " u'and',\n",
       " u'and',\n",
       " u'a',\n",
       " u'and',\n",
       " u'and',\n",
       " u'a',\n",
       " u'available',\n",
       " u'at',\n",
       " u'also',\n",
       " u'also',\n",
       " u'a',\n",
       " u'a',\n",
       " u'and',\n",
       " u'also',\n",
       " u'an',\n",
       " u'abbreviated',\n",
       " u'are',\n",
       " u'all',\n",
       " u'automated',\n",
       " u'and',\n",
       " u'against',\n",
       " u'at',\n",
       " u'a',\n",
       " u'and',\n",
       " u'also',\n",
       " u'a',\n",
       " u'application',\n",
       " u'a',\n",
       " u'an']"
      ]
     },
     "execution_count": 9,
     "metadata": {},
     "output_type": "execute_result"
    }
   ],
   "source": [
    "textFile.flatMap(lambda line: line.split()).filter(lambda word: word.startswith('a')).collect()"
   ]
  },
  {
   "cell_type": "markdown",
   "metadata": {},
   "source": [
    "## Palabras únicas que empiezan con a (distinct)"
   ]
  },
  {
   "cell_type": "code",
   "execution_count": 10,
   "metadata": {
    "collapsed": false
   },
   "outputs": [
    {
     "data": {
      "text/plain": [
       "[u'a',\n",
       " u'and',\n",
       " u'abbreviated',\n",
       " u'also',\n",
       " u'available',\n",
       " u'all',\n",
       " u'against',\n",
       " u'an',\n",
       " u'application',\n",
       " u'analysis.',\n",
       " u'automated',\n",
       " u'at',\n",
       " u'are']"
      ]
     },
     "execution_count": 10,
     "metadata": {},
     "output_type": "execute_result"
    }
   ],
   "source": [
    "textFile.flatMap(lambda line: line.split()).filter(lambda word: word.startswith('a')).distinct().collect()"
   ]
  },
  {
   "cell_type": "markdown",
   "metadata": {},
   "source": [
    "## Cantidad de palabras por frecuencia de repetición ordenados (sortByKey)"
   ]
  },
  {
   "cell_type": "code",
   "execution_count": 11,
   "metadata": {
    "collapsed": false
   },
   "outputs": [
    {
     "data": {
      "text/plain": [
       "[(1, 194),\n",
       " (2, 41),\n",
       " (3, 13),\n",
       " (4, 4),\n",
       " (5, 3),\n",
       " (6, 3),\n",
       " (7, 1),\n",
       " (8, 1),\n",
       " (9, 1),\n",
       " (10, 1),\n",
       " (11, 1),\n",
       " (14, 2),\n",
       " (21, 1)]"
      ]
     },
     "execution_count": 11,
     "metadata": {},
     "output_type": "execute_result"
    }
   ],
   "source": [
    "rangeCounts = wordCounts.map(lambda set: (set[1], 1)).reduceByKey(lambda a, b: a+b).sortByKey().collect()\n",
    "rangeCounts"
   ]
  },
  {
   "cell_type": "markdown",
   "metadata": {},
   "source": [
    "## Graficando cantidad de palabras por frecuencia de repetición"
   ]
  },
  {
   "cell_type": "code",
   "execution_count": 12,
   "metadata": {
    "collapsed": false
   },
   "outputs": [
    {
     "data": {
      "image/png": "[encoded data removed]",
      "text/plain": [
       "<matplotlib.figure.Figure at 0xb0e2b12c>"
      ]
     },
     "metadata": {},
     "output_type": "display_data"
    }
   ],
   "source": [
    "import numpy as np\n",
    "import matplotlib.pyplot as plt\n",
    "\n",
    "ranges = [t[0] for t in rangeCounts]\n",
    "y_pos = np.arange(len(ranges))\n",
    "words = [t[1] for t in rangeCounts]\n",
    "\n",
    "plt.barh(y_pos, words)\n",
    "plt.yticks(y_pos, ranges)\n",
    "plt.xlabel('Words')\n",
    "plt.title('Word count by word frequency')\n",
    "\n",
    "plt.show()"
   ]
  }
 ],
 "metadata": {
  "kernelspec": {
   "display_name": "Python 2",
   "language": "python",
   "name": "python2"
  },
  "language_info": {
   "codemirror_mode": {
    "name": "ipython",
    "version": 2
   },
   "file_extension": ".py",
   "mimetype": "text/x-python",
   "name": "python",
   "nbconvert_exporter": "python",
   "pygments_lexer": "ipython2",
   "version": "2.7.6"
  }
 },
 "nbformat": 4,
 "nbformat_minor": 0
}

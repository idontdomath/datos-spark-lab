{
 "metadata": {
  "name": "SF"
 },
 "nbformat": 3,
 "nbformat_minor": 0,
 "worksheets": [
  {
   "cells": [
    {
     "cell_type": "markdown",
     "metadata": {},
     "source": "# San Francisco Crime"
    },
    {
     "cell_type": "markdown",
     "metadata": {},
     "source": "## Leo CSV como RDD"
    },
    {
     "cell_type": "code",
     "collapsed": false,
     "input": "import pyspark_csv as pycsv\nsc.addPyFile('pyspark_csv.py')\nplaintext_rdd = sc.textFile('sf/train.csv')\ndataframe = pycsv.csvToDataFrame(sqlCtx, plaintext_rdd, parseDate=False)",
     "language": "python",
     "metadata": {},
     "outputs": []
    },
    {
     "cell_type": "code",
     "collapsed": false,
     "input": "data = dataframe.rdd",
     "language": "python",
     "metadata": {},
     "outputs": []
    },
    {
     "cell_type": "markdown",
     "metadata": {},
     "source": "## Primer registro de los datos"
    },
    {
     "cell_type": "code",
     "collapsed": false,
     "input": "data.first()",
     "language": "python",
     "metadata": {},
     "outputs": []
    },
    {
     "cell_type": "markdown",
     "metadata": {},
     "source": "## Categor\u00edas de cr\u00edmenes"
    },
    {
     "cell_type": "code",
     "collapsed": false,
     "input": "categories = data.map(lambda row: row[1]).distinct()",
     "language": "python",
     "metadata": {},
     "outputs": []
    },
    {
     "cell_type": "code",
     "collapsed": false,
     "input": "categories.collect()",
     "language": "python",
     "metadata": {},
     "outputs": []
    },
    {
     "cell_type": "markdown",
     "metadata": {},
     "source": "## Cantidad de categor\u00edas de cr\u00edmenes"
    },
    {
     "cell_type": "code",
     "collapsed": false,
     "input": "categories.count()",
     "language": "python",
     "metadata": {},
     "outputs": []
    },
    {
     "cell_type": "markdown",
     "metadata": {},
     "source": "## Categor\u00edas de cr\u00edmenes ordenadas alfabeticamente"
    },
    {
     "cell_type": "code",
     "collapsed": false,
     "input": "categories.takeOrdered(40)",
     "language": "python",
     "metadata": {},
     "outputs": []
    },
    {
     "cell_type": "markdown",
     "metadata": {},
     "source": "## 10 delitos m\u00e1s comunes"
    },
    {
     "cell_type": "code",
     "collapsed": false,
     "input": "data.map(lambda row: (row.Category, 1)).reduceByKey(lambda a, b: a+b).takeOrdered(10, key = lambda x: -x[1])",
     "language": "python",
     "metadata": {},
     "outputs": []
    },
    {
     "cell_type": "markdown",
     "metadata": {},
     "source": "## D\u00eda de la semana con m\u00e1s casos de 'Driving under the influence'"
    },
    {
     "cell_type": "code",
     "collapsed": false,
     "input": "data.filter(lambda row: row.Category == 'DRIVING UNDER THE INFLUENCE').map(lambda row: (row.DayOfWeek, 1)).reduceByKey(lambda a, b: a+b).takeOrdered(1, key = lambda x: -x[1])",
     "language": "python",
     "metadata": {},
     "outputs": []
    },
    {
     "cell_type": "markdown",
     "metadata": {},
     "source": "## Los 3 distritos con mayor cantidad de cr\u00edmenes"
    },
    {
     "cell_type": "code",
     "collapsed": false,
     "input": "data.map(lambda row: (row.PdDistrict, 1)).reduceByKey(lambda a, b: a+b).takeOrdered(3, key = lambda x: -x[1])",
     "language": "python",
     "metadata": {},
     "outputs": []
    },
    {
     "cell_type": "markdown",
     "metadata": {},
     "source": "## Cr\u00edmenes que tienen mayor porcentaje de resoluci\u00f3n \u201cNot Prosecuted\u201d"
    },
    {
     "cell_type": "code",
     "collapsed": false,
     "input": "not_prosecuted = data.filter(lambda row: row.Resolution == 'NOT PROSECUTED').map(lambda row: (row.Category, 1)).reduceByKey(lambda a, b: a+b)",
     "language": "python",
     "metadata": {},
     "outputs": []
    },
    {
     "cell_type": "code",
     "collapsed": false,
     "input": "all_resolutions = data.map(lambda row: (row.Category, 1)).reduceByKey(lambda a, b: a+b)",
     "language": "python",
     "metadata": {},
     "outputs": []
    },
    {
     "cell_type": "code",
     "collapsed": false,
     "input": "all_resolutions.join(not_prosecuted).takeOrdered(5, key = lambda x: -(x[1][1]*100/x[1][0]))",
     "language": "python",
     "metadata": {},
     "outputs": []
    },
    {
     "cell_type": "markdown",
     "metadata": {},
     "source": "## Delitos por d\u00eda de la semana"
    },
    {
     "cell_type": "code",
     "collapsed": false,
     "input": "day_of_week_crimes_rdd = data.map(lambda row: (row.DayOfWeek, 1)).reduceByKey(lambda a, b: a+b)",
     "language": "python",
     "metadata": {},
     "outputs": []
    },
    {
     "cell_type": "code",
     "collapsed": false,
     "input": "day_of_week_crimes = day_of_week_crimes_rdd.collect()\nday_of_week_crimes",
     "language": "python",
     "metadata": {},
     "outputs": []
    },
    {
     "cell_type": "code",
     "collapsed": false,
     "input": "%matplotlib inline\n\nimport matplotlib.pyplot as plt\nimport numpy as np\n\ndays = [t[0] for t in day_of_week_crimes]\ny_pos = np.arange(len(days))\ncrimes = [t[1] for t in day_of_week_crimes]\n\nplt.barh(y_pos, crimes)\nplt.yticks(y_pos, days)\nplt.xlabel('Crimes')\nplt.title('Crimenes por dia de la semana')\n\nplt.show()",
     "language": "python",
     "metadata": {},
     "outputs": []
    },
    {
     "cell_type": "code",
     "collapsed": false,
     "input": "dataframe.registerTempTable(\"crimes\")\nsqlCtx.sql(\"select distinct Category from crimes\").collect()",
     "language": "python",
     "metadata": {},
     "outputs": []
    },
    {
     "cell_type": "code",
     "collapsed": false,
     "input": "sqlCtx.sql(\"select distinct Category from crimes order by Category\").collect()",
     "language": "python",
     "metadata": {},
     "outputs": []
    },
    {
     "cell_type": "markdown",
     "metadata": {},
     "source": "## 10 delitos m\u00e1s comunes con SQL"
    },
    {
     "cell_type": "code",
     "collapsed": false,
     "input": "sqlCtx.sql(\"select Category, count(*) as crimes_count from crimes group by Category order by crimes_count desc limit 10\").collect()",
     "language": "python",
     "metadata": {},
     "outputs": []
    },
    {
     "cell_type": "markdown",
     "metadata": {},
     "source": "## D\u00eda de la semana con m\u00e1s casos de 'Driving under the influence'"
    },
    {
     "cell_type": "code",
     "collapsed": false,
     "input": "sqlCtx.sql(\"select DayOfWeek, count(*) as crimes_count from crimes where Category == 'DRIVING UNDER THE INFLUENCE' group by DayOfWeek order by crimes_count desc limit 1\").collect()",
     "language": "python",
     "metadata": {},
     "outputs": []
    },
    {
     "cell_type": "code",
     "collapsed": false,
     "input": "",
     "language": "python",
     "metadata": {},
     "outputs": []
    }
   ],
   "metadata": {}
  }
 ]
}
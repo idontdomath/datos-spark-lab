{
 "cells": [
  {
   "cell_type": "markdown",
   "metadata": {},
   "source": [
    "# San Francisco Crime"
   ]
  },
  {
   "cell_type": "markdown",
   "metadata": {},
   "source": [
    "## Leo CSV como RDD"
   ]
  },
  {
   "cell_type": "code",
   "execution_count": 4,
   "metadata": {
    "collapsed": false
   },
   "outputs": [],
   "source": [
    "# usamos pyspark_csv de https://github.com/seahboonsiew/pyspark-csv\n",
    "# ver README.md\n",
    "\n",
    "sc.addPyFile('/vagrant/lib/pyspark_csv.py')\n",
    "\n",
    "import pyspark_csv as pycsv\n",
    "\n",
    "plaintext_rdd = sc.textFile('/vagrant/sf/train.csv')\n",
    "dataframe = pycsv.csvToDataFrame(sqlCtx, plaintext_rdd, parseDate=False)"
   ]
  },
  {
   "cell_type": "code",
   "execution_count": 5,
   "metadata": {
    "collapsed": false
   },
   "outputs": [],
   "source": [
    "data = dataframe.rdd"
   ]
  },
  {
   "cell_type": "markdown",
   "metadata": {},
   "source": [
    "## Primer registro de los datos"
   ]
  },
  {
   "cell_type": "code",
   "execution_count": 6,
   "metadata": {
    "collapsed": false
   },
   "outputs": [
    {
     "data": {
      "text/plain": [
       "Row(Dates=u'2015-05-13 23:53:00', Category=u'WARRANTS', Descript=u'WARRANT ARREST', DayOfWeek=u'Wednesday', PdDistrict=u'NORTHERN', Resolution=u'ARREST, BOOKED', Address=u'OAK ST / LAGUNA ST', X=-122.425891675136, Y=37.7745985956747)"
      ]
     },
     "execution_count": 6,
     "metadata": {},
     "output_type": "execute_result"
    }
   ],
   "source": [
    "data.first()"
   ]
  },
  {
   "cell_type": "markdown",
   "metadata": {},
   "source": [
    "## Categorías de crímenes"
   ]
  },
  {
   "cell_type": "code",
   "execution_count": 7,
   "metadata": {
    "collapsed": false
   },
   "outputs": [],
   "source": [
    "categories = data.map(lambda row: row[1]).distinct()"
   ]
  },
  {
   "cell_type": "code",
   "execution_count": 7,
   "metadata": {
    "collapsed": false
   },
   "outputs": [
    {
     "data": {
      "text/plain": [
       "[u'WEAPON LAWS',\n",
       " u'TREA',\n",
       " u'EMBEZZLEMENT',\n",
       " u'DRIVING UNDER THE INFLUENCE',\n",
       " u'BURGLARY',\n",
       " u'LIQUOR LAWS',\n",
       " u'MISSING PERSON',\n",
       " u'SEX OFFENSES NON FORCIBLE',\n",
       " u'EXTORTION',\n",
       " u'TRESPASS',\n",
       " u'LARCENY/THEFT',\n",
       " u'NON-CRIMINAL',\n",
       " u'GAMBLING',\n",
       " u'OTHER OFFENSES',\n",
       " u'DRUNKENNESS',\n",
       " u'VEHICLE THEFT',\n",
       " u'RECOVERED VEHICLE',\n",
       " u'FAMILY OFFENSES',\n",
       " u'WARRANTS',\n",
       " u'ASSAULT',\n",
       " u'BAD CHECKS',\n",
       " u'SEX OFFENSES FORCIBLE',\n",
       " u'PORNOGRAPHY/OBSCENE MAT',\n",
       " u'PROSTITUTION',\n",
       " u'BRIBERY',\n",
       " u'LOITERING',\n",
       " u'ROBBERY',\n",
       " u'ARSON',\n",
       " u'RUNAWAY',\n",
       " u'SUSPICIOUS OCC',\n",
       " u'VANDALISM',\n",
       " u'KIDNAPPING',\n",
       " u'DISORDERLY CONDUCT',\n",
       " u'SECONDARY CODES',\n",
       " u'STOLEN PROPERTY',\n",
       " u'FORGERY/COUNTERFEITING',\n",
       " u'FRAUD',\n",
       " u'DRUG/NARCOTIC',\n",
       " u'SUICIDE']"
      ]
     },
     "execution_count": 7,
     "metadata": {},
     "output_type": "execute_result"
    }
   ],
   "source": [
    "categories.collect()"
   ]
  },
  {
   "cell_type": "markdown",
   "metadata": {},
   "source": [
    "## Cantidad de categorías de crímenes"
   ]
  },
  {
   "cell_type": "code",
   "execution_count": 8,
   "metadata": {
    "collapsed": false
   },
   "outputs": [
    {
     "data": {
      "text/plain": [
       "39"
      ]
     },
     "execution_count": 8,
     "metadata": {},
     "output_type": "execute_result"
    }
   ],
   "source": [
    "categories.count()"
   ]
  },
  {
   "cell_type": "markdown",
   "metadata": {},
   "source": [
    "## Categorías de crímenes ordenadas alfabeticamente"
   ]
  },
  {
   "cell_type": "code",
   "execution_count": 9,
   "metadata": {
    "collapsed": false
   },
   "outputs": [
    {
     "data": {
      "text/plain": [
       "[u'ARSON',\n",
       " u'ASSAULT',\n",
       " u'BAD CHECKS',\n",
       " u'BRIBERY',\n",
       " u'BURGLARY',\n",
       " u'DISORDERLY CONDUCT',\n",
       " u'DRIVING UNDER THE INFLUENCE',\n",
       " u'DRUG/NARCOTIC',\n",
       " u'DRUNKENNESS',\n",
       " u'EMBEZZLEMENT',\n",
       " u'EXTORTION',\n",
       " u'FAMILY OFFENSES',\n",
       " u'FORGERY/COUNTERFEITING',\n",
       " u'FRAUD',\n",
       " u'GAMBLING',\n",
       " u'KIDNAPPING',\n",
       " u'LARCENY/THEFT',\n",
       " u'LIQUOR LAWS',\n",
       " u'LOITERING',\n",
       " u'MISSING PERSON',\n",
       " u'NON-CRIMINAL',\n",
       " u'OTHER OFFENSES',\n",
       " u'PORNOGRAPHY/OBSCENE MAT',\n",
       " u'PROSTITUTION',\n",
       " u'RECOVERED VEHICLE',\n",
       " u'ROBBERY',\n",
       " u'RUNAWAY',\n",
       " u'SECONDARY CODES',\n",
       " u'SEX OFFENSES FORCIBLE',\n",
       " u'SEX OFFENSES NON FORCIBLE',\n",
       " u'STOLEN PROPERTY',\n",
       " u'SUICIDE',\n",
       " u'SUSPICIOUS OCC',\n",
       " u'TREA',\n",
       " u'TRESPASS',\n",
       " u'VANDALISM',\n",
       " u'VEHICLE THEFT',\n",
       " u'WARRANTS',\n",
       " u'WEAPON LAWS']"
      ]
     },
     "execution_count": 9,
     "metadata": {},
     "output_type": "execute_result"
    }
   ],
   "source": [
    "categories.takeOrdered(40)"
   ]
  },
  {
   "cell_type": "markdown",
   "metadata": {},
   "source": [
    "## 10 delitos más comunes"
   ]
  },
  {
   "cell_type": "code",
   "execution_count": 10,
   "metadata": {
    "collapsed": false
   },
   "outputs": [
    {
     "data": {
      "text/plain": [
       "[(u'LARCENY/THEFT', 174900),\n",
       " (u'OTHER OFFENSES', 126182),\n",
       " (u'NON-CRIMINAL', 92304),\n",
       " (u'ASSAULT', 76876),\n",
       " (u'DRUG/NARCOTIC', 53971),\n",
       " (u'VEHICLE THEFT', 53781),\n",
       " (u'VANDALISM', 44725),\n",
       " (u'WARRANTS', 42214),\n",
       " (u'BURGLARY', 36755),\n",
       " (u'SUSPICIOUS OCC', 31414)]"
      ]
     },
     "execution_count": 10,
     "metadata": {},
     "output_type": "execute_result"
    }
   ],
   "source": [
    "data.map(lambda row: (row.Category, 1)).reduceByKey(lambda a, b: a+b).takeOrdered(10, key = lambda x: -x[1])"
   ]
  },
  {
   "cell_type": "markdown",
   "metadata": {},
   "source": [
    "## Día de la semana con más casos de 'Driving under the influence'"
   ]
  },
  {
   "cell_type": "code",
   "execution_count": 11,
   "metadata": {
    "collapsed": false
   },
   "outputs": [
    {
     "data": {
      "text/plain": [
       "[(u'Saturday', 457)]"
      ]
     },
     "execution_count": 11,
     "metadata": {},
     "output_type": "execute_result"
    }
   ],
   "source": [
    "data.filter(lambda row: row.Category == 'DRIVING UNDER THE INFLUENCE').map(lambda row: (row.DayOfWeek, 1)).reduceByKey(lambda a, b: a+b).takeOrdered(1, key = lambda x: -x[1])"
   ]
  },
  {
   "cell_type": "markdown",
   "metadata": {},
   "source": [
    "## Los 3 distritos con mayor cantidad de crímenes"
   ]
  },
  {
   "cell_type": "code",
   "execution_count": 12,
   "metadata": {
    "collapsed": false
   },
   "outputs": [
    {
     "data": {
      "text/plain": [
       "[(u'SOUTHERN', 157182), (u'MISSION', 119908), (u'NORTHERN', 105296)]"
      ]
     },
     "execution_count": 12,
     "metadata": {},
     "output_type": "execute_result"
    }
   ],
   "source": [
    "data.map(lambda row: (row.PdDistrict, 1)).reduceByKey(lambda a, b: a+b).takeOrdered(3, key = lambda x: -x[1])"
   ]
  },
  {
   "cell_type": "markdown",
   "metadata": {},
   "source": [
    "## Crímenes que tienen mayor porcentaje de resolución “Not Prosecuted”"
   ]
  },
  {
   "cell_type": "code",
   "execution_count": 13,
   "metadata": {
    "collapsed": false
   },
   "outputs": [],
   "source": [
    "not_prosecuted = data.filter(lambda row: row.Resolution == 'NOT PROSECUTED').map(lambda row: (row.Category, 1)).reduceByKey(lambda a, b: a+b)"
   ]
  },
  {
   "cell_type": "code",
   "execution_count": 14,
   "metadata": {
    "collapsed": false
   },
   "outputs": [],
   "source": [
    "all_resolutions = data.map(lambda row: (row.Category, 1)).reduceByKey(lambda a, b: a+b)"
   ]
  },
  {
   "cell_type": "code",
   "execution_count": 15,
   "metadata": {
    "collapsed": false
   },
   "outputs": [
    {
     "data": {
      "text/plain": [
       "[(u'FORGERY/COUNTERFEITING', (10609, 698)),\n",
       " (u'FRAUD', (16679, 946)),\n",
       " (u'BAD CHECKS', (406, 19)),\n",
       " (u'GAMBLING', (146, 4)),\n",
       " (u'EMBEZZLEMENT', (1166, 21))]"
      ]
     },
     "execution_count": 15,
     "metadata": {},
     "output_type": "execute_result"
    }
   ],
   "source": [
    "all_resolutions.join(not_prosecuted).takeOrdered(5, key = lambda x: -(x[1][1]*100/x[1][0]))"
   ]
  },
  {
   "cell_type": "markdown",
   "metadata": {},
   "source": [
    "## Delitos por día de la semana"
   ]
  },
  {
   "cell_type": "code",
   "execution_count": 16,
   "metadata": {
    "collapsed": false
   },
   "outputs": [],
   "source": [
    "day_of_week_crimes_rdd = data.map(lambda row: (row.DayOfWeek, 1)).reduceByKey(lambda a, b: a+b)"
   ]
  },
  {
   "cell_type": "code",
   "execution_count": 17,
   "metadata": {
    "collapsed": false
   },
   "outputs": [
    {
     "data": {
      "text/plain": [
       "[(u'Wednesday', 129211),\n",
       " (u'Saturday', 126810),\n",
       " (u'Sunday', 116707),\n",
       " (u'Tuesday', 124965),\n",
       " (u'Thursday', 125038),\n",
       " (u'Monday', 121584),\n",
       " (u'Friday', 133734)]"
      ]
     },
     "execution_count": 17,
     "metadata": {},
     "output_type": "execute_result"
    }
   ],
   "source": [
    "day_of_week_crimes = day_of_week_crimes_rdd.collect()\n",
    "day_of_week_crimes"
   ]
  },
  {
   "cell_type": "code",
   "execution_count": 18,
   "metadata": {
    "collapsed": false
   },
   "outputs": [
    {
     "data": {
      "image/png": "[encoded data removed]",
      "text/plain": [
       "<matplotlib.figure.Figure at 0xb21b0f4c>"
      ]
     },
     "metadata": {},
     "output_type": "display_data"
    }
   ],
   "source": [
    "%matplotlib inline\n",
    "\n",
    "import matplotlib.pyplot as plt\n",
    "import numpy as np\n",
    "\n",
    "days = [t[0] for t in day_of_week_crimes]\n",
    "y_pos = np.arange(len(days))\n",
    "crimes = [t[1] for t in day_of_week_crimes]\n",
    "\n",
    "plt.barh(y_pos, crimes)\n",
    "plt.yticks(y_pos, days)\n",
    "plt.xlabel('Crimes')\n",
    "plt.title('Crimenes por dia de la semana')\n",
    "\n",
    "plt.show()"
   ]
  },
  {
   "cell_type": "code",
   "execution_count": 19,
   "metadata": {
    "collapsed": false
   },
   "outputs": [
    {
     "data": {
      "text/plain": [
       "[Row(Category=u'ASSAULT'),\n",
       " Row(Category=u'MISSING PERSON'),\n",
       " Row(Category=u'TREA'),\n",
       " Row(Category=u'TRESPASS'),\n",
       " Row(Category=u'VANDALISM'),\n",
       " Row(Category=u'RECOVERED VEHICLE'),\n",
       " Row(Category=u'SEX OFFENSES FORCIBLE'),\n",
       " Row(Category=u'BURGLARY'),\n",
       " Row(Category=u'DISORDERLY CONDUCT'),\n",
       " Row(Category=u'DRUNKENNESS'),\n",
       " Row(Category=u'DRIVING UNDER THE INFLUENCE'),\n",
       " Row(Category=u'WARRANTS'),\n",
       " Row(Category=u'ROBBERY'),\n",
       " Row(Category=u'KIDNAPPING'),\n",
       " Row(Category=u'SEX OFFENSES NON FORCIBLE'),\n",
       " Row(Category=u'FAMILY OFFENSES'),\n",
       " Row(Category=u'GAMBLING'),\n",
       " Row(Category=u'OTHER OFFENSES'),\n",
       " Row(Category=u'PORNOGRAPHY/OBSCENE MAT'),\n",
       " Row(Category=u'FRAUD'),\n",
       " Row(Category=u'EXTORTION'),\n",
       " Row(Category=u'RUNAWAY'),\n",
       " Row(Category=u'FORGERY/COUNTERFEITING'),\n",
       " Row(Category=u'PROSTITUTION'),\n",
       " Row(Category=u'LARCENY/THEFT'),\n",
       " Row(Category=u'EMBEZZLEMENT'),\n",
       " Row(Category=u'VEHICLE THEFT'),\n",
       " Row(Category=u'BRIBERY'),\n",
       " Row(Category=u'WEAPON LAWS'),\n",
       " Row(Category=u'LIQUOR LAWS'),\n",
       " Row(Category=u'STOLEN PROPERTY'),\n",
       " Row(Category=u'BAD CHECKS'),\n",
       " Row(Category=u'NON-CRIMINAL'),\n",
       " Row(Category=u'SUSPICIOUS OCC'),\n",
       " Row(Category=u'SUICIDE'),\n",
       " Row(Category=u'LOITERING'),\n",
       " Row(Category=u'ARSON'),\n",
       " Row(Category=u'DRUG/NARCOTIC'),\n",
       " Row(Category=u'SECONDARY CODES')]"
      ]
     },
     "execution_count": 19,
     "metadata": {},
     "output_type": "execute_result"
    }
   ],
   "source": [
    "dataframe.registerTempTable(\"crimes\")\n",
    "sqlCtx.sql(\"select distinct Category from crimes\").collect()"
   ]
  },
  {
   "cell_type": "code",
   "execution_count": 20,
   "metadata": {
    "collapsed": false
   },
   "outputs": [
    {
     "data": {
      "text/plain": [
       "[Row(Category=u'ARSON'),\n",
       " Row(Category=u'ASSAULT'),\n",
       " Row(Category=u'BAD CHECKS'),\n",
       " Row(Category=u'BRIBERY'),\n",
       " Row(Category=u'BURGLARY'),\n",
       " Row(Category=u'DISORDERLY CONDUCT'),\n",
       " Row(Category=u'DRIVING UNDER THE INFLUENCE'),\n",
       " Row(Category=u'DRUG/NARCOTIC'),\n",
       " Row(Category=u'DRUNKENNESS'),\n",
       " Row(Category=u'EMBEZZLEMENT'),\n",
       " Row(Category=u'EXTORTION'),\n",
       " Row(Category=u'FAMILY OFFENSES'),\n",
       " Row(Category=u'FORGERY/COUNTERFEITING'),\n",
       " Row(Category=u'FRAUD'),\n",
       " Row(Category=u'GAMBLING'),\n",
       " Row(Category=u'KIDNAPPING'),\n",
       " Row(Category=u'LARCENY/THEFT'),\n",
       " Row(Category=u'LIQUOR LAWS'),\n",
       " Row(Category=u'LOITERING'),\n",
       " Row(Category=u'MISSING PERSON'),\n",
       " Row(Category=u'NON-CRIMINAL'),\n",
       " Row(Category=u'OTHER OFFENSES'),\n",
       " Row(Category=u'PORNOGRAPHY/OBSCENE MAT'),\n",
       " Row(Category=u'PROSTITUTION'),\n",
       " Row(Category=u'RECOVERED VEHICLE'),\n",
       " Row(Category=u'ROBBERY'),\n",
       " Row(Category=u'RUNAWAY'),\n",
       " Row(Category=u'SECONDARY CODES'),\n",
       " Row(Category=u'SEX OFFENSES FORCIBLE'),\n",
       " Row(Category=u'SEX OFFENSES NON FORCIBLE'),\n",
       " Row(Category=u'STOLEN PROPERTY'),\n",
       " Row(Category=u'SUICIDE'),\n",
       " Row(Category=u'SUSPICIOUS OCC'),\n",
       " Row(Category=u'TREA'),\n",
       " Row(Category=u'TRESPASS'),\n",
       " Row(Category=u'VANDALISM'),\n",
       " Row(Category=u'VEHICLE THEFT'),\n",
       " Row(Category=u'WARRANTS'),\n",
       " Row(Category=u'WEAPON LAWS')]"
      ]
     },
     "execution_count": 20,
     "metadata": {},
     "output_type": "execute_result"
    }
   ],
   "source": [
    "sqlCtx.sql(\"select distinct Category from crimes order by Category\").collect()"
   ]
  },
  {
   "cell_type": "markdown",
   "metadata": {},
   "source": [
    "## 10 delitos más comunes con SQL"
   ]
  },
  {
   "cell_type": "code",
   "execution_count": 21,
   "metadata": {
    "collapsed": false
   },
   "outputs": [
    {
     "data": {
      "text/plain": [
       "[Row(Category=u'LARCENY/THEFT', crimes_count=174900),\n",
       " Row(Category=u'OTHER OFFENSES', crimes_count=126182),\n",
       " Row(Category=u'NON-CRIMINAL', crimes_count=92304),\n",
       " Row(Category=u'ASSAULT', crimes_count=76876),\n",
       " Row(Category=u'DRUG/NARCOTIC', crimes_count=53971),\n",
       " Row(Category=u'VEHICLE THEFT', crimes_count=53781),\n",
       " Row(Category=u'VANDALISM', crimes_count=44725),\n",
       " Row(Category=u'WARRANTS', crimes_count=42214),\n",
       " Row(Category=u'BURGLARY', crimes_count=36755),\n",
       " Row(Category=u'SUSPICIOUS OCC', crimes_count=31414)]"
      ]
     },
     "execution_count": 21,
     "metadata": {},
     "output_type": "execute_result"
    }
   ],
   "source": [
    "sqlCtx.sql(\"select Category, count(*) as crimes_count from crimes group by Category order by crimes_count desc limit 10\").collect()"
   ]
  },
  {
   "cell_type": "markdown",
   "metadata": {},
   "source": [
    "## Día de la semana con más casos de 'Driving under the influence'"
   ]
  },
  {
   "cell_type": "code",
   "execution_count": 22,
   "metadata": {
    "collapsed": false
   },
   "outputs": [
    {
     "data": {
      "text/plain": [
       "[Row(DayOfWeek=u'Saturday', crimes_count=457)]"
      ]
     },
     "execution_count": 22,
     "metadata": {},
     "output_type": "execute_result"
    }
   ],
   "source": [
    "sqlCtx.sql(\"select DayOfWeek, count(*) as crimes_count from crimes where Category == 'DRIVING UNDER THE INFLUENCE' group by DayOfWeek order by crimes_count desc limit 1\").collect()"
   ]
  }
 ],
 "metadata": {
  "kernelspec": {
   "display_name": "Python 2",
   "language": "python",
   "name": "python2"
  },
  "language_info": {
   "codemirror_mode": {
    "name": "ipython",
    "version": 2
   },
   "file_extension": ".py",
   "mimetype": "text/x-python",
   "name": "python",
   "nbconvert_exporter": "python",
   "pygments_lexer": "ipython2",
   "version": "2.7.6"
  }
 },
 "nbformat": 4,
 "nbformat_minor": 0
}

{
 "metadata": {
  "name": "Wordcount"
 },
 "nbformat": 3,
 "nbformat_minor": 0,
 "worksheets": [
  {
   "cells": [
    {
     "cell_type": "markdown",
     "metadata": {},
     "source": "# Ejemplos con Wordcount"
    },
    {
     "cell_type": "markdown",
     "metadata": {},
     "source": "## RDD paralelizando datos"
    },
    {
     "cell_type": "code",
     "collapsed": false,
     "input": "data = [1, 2, 3, 4, 5]\ndistData = sc.parallelize(data)\nprint distData",
     "language": "python",
     "metadata": {},
     "outputs": []
    },
    {
     "cell_type": "markdown",
     "metadata": {},
     "source": "## Uso el contenido de un archivo de texto como fuente de datos"
    },
    {
     "cell_type": "code",
     "collapsed": false,
     "input": "textFile = sc.textFile(\"README.md\")\ntextFile",
     "language": "python",
     "metadata": {},
     "outputs": []
    },
    {
     "cell_type": "markdown",
     "metadata": {},
     "source": "## Cuento palabras (flatMap, map, reduceByKey)"
    },
    {
     "cell_type": "code",
     "collapsed": false,
     "input": "wordCounts = textFile.flatMap(lambda line: line.split()).map(lambda word: (word, 1)).reduceByKey(lambda a, b: a+b)\nwordCounts",
     "language": "python",
     "metadata": {},
     "outputs": []
    },
    {
     "cell_type": "markdown",
     "metadata": {},
     "source": "## Muestro todas las tuplas (collect)"
    },
    {
     "cell_type": "code",
     "collapsed": false,
     "input": "wordCounts.collect()",
     "language": "python",
     "metadata": {},
     "outputs": []
    },
    {
     "cell_type": "markdown",
     "metadata": {},
     "source": "## Las 5 palabras que m\u00e1s aparecen (takeOrdered)"
    },
    {
     "cell_type": "code",
     "collapsed": false,
     "input": "wordCounts.takeOrdered(5, key = lambda x: -x[1])",
     "language": "python",
     "metadata": {},
     "outputs": []
    },
    {
     "cell_type": "markdown",
     "metadata": {},
     "source": "## Las 5 palabras que m\u00e1s aparecen pero calculandolo afuera de Spark"
    },
    {
     "cell_type": "code",
     "collapsed": false,
     "input": "words = wordCounts.collect()\nwords.sort(key = lambda x: -x[1])\nprint words[0:10]",
     "language": "python",
     "metadata": {},
     "outputs": []
    },
    {
     "cell_type": "markdown",
     "metadata": {},
     "source": "## Las 5 palabras que m\u00e1s aparecen usando grupos (groupByKey)"
    },
    {
     "cell_type": "code",
     "collapsed": false,
     "input": "textFile.flatMap(lambda line: line.split()).map(lambda word: (word, 1)).groupByKey().takeOrdered(5, lambda (key, value): -1 * len(value))",
     "language": "python",
     "metadata": {},
     "outputs": []
    },
    {
     "cell_type": "markdown",
     "metadata": {},
     "source": "## La palabra m\u00e1s larga (reduce)"
    },
    {
     "cell_type": "code",
     "collapsed": false,
     "input": "textFile.flatMap(lambda line: line.split()).reduce(lambda a, b: a if (len(a) > len(b)) else b)",
     "language": "python",
     "metadata": {},
     "outputs": []
    },
    {
     "cell_type": "markdown",
     "metadata": {},
     "source": "## Palabras que empiezan con a (filter)"
    },
    {
     "cell_type": "code",
     "collapsed": false,
     "input": "textFile.flatMap(lambda line: line.split()).filter(lambda word: word.startswith('a')).collect()",
     "language": "python",
     "metadata": {},
     "outputs": []
    },
    {
     "cell_type": "markdown",
     "metadata": {},
     "source": "## Palabras \u00fanicas que empiezan con a (distinct)"
    },
    {
     "cell_type": "code",
     "collapsed": false,
     "input": "textFile.flatMap(lambda line: line.split()).filter(lambda word: word.startswith('a')).distinct().collect()",
     "language": "python",
     "metadata": {},
     "outputs": []
    },
    {
     "cell_type": "markdown",
     "metadata": {},
     "source": "## Cantidad de palabras por frecuencia de repetici\u00f3n ordenados (sortByKey)"
    },
    {
     "cell_type": "code",
     "collapsed": false,
     "input": "rangeCounts = wordCounts.map(lambda set: (set[1], 1)).reduceByKey(lambda a, b: a+b).sortByKey().collect()\nrangeCounts",
     "language": "python",
     "metadata": {},
     "outputs": []
    },
    {
     "cell_type": "markdown",
     "metadata": {},
     "source": "## Graficando cantidad de palabras por frecuencia de repetici\u00f3n"
    },
    {
     "cell_type": "code",
     "collapsed": false,
     "input": "%matplotlib inline\nimport matplotlib.pyplot as plt\nimport numpy as np\n\nranges = [t[0] for t in rangeCounts]\ny_pos = np.arange(len(ranges))\nwords = [t[1] for t in rangeCounts]\n\nplt.barh(y_pos, words)\nplt.yticks(y_pos, ranges)\nplt.xlabel('Words')\nplt.title('Word count by word frequency')\n\nplt.show()",
     "language": "python",
     "metadata": {},
     "outputs": []
    },
    {
     "cell_type": "code",
     "collapsed": false,
     "input": "",
     "language": "python",
     "metadata": {},
     "outputs": []
    }
   ],
   "metadata": {}
  }
 ]
}